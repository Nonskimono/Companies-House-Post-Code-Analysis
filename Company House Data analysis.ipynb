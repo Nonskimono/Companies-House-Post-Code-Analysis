{
 "cells": [
  {
   "cell_type": "code",
   "execution_count": 1,
   "metadata": {},
   "outputs": [],
   "source": [
    "import pandas as pd\n",
    "import numpy as np\n",
    "import re \n",
    "import matplotlib as plt"
   ]
  },
  {
   "cell_type": "code",
   "execution_count": 2,
   "metadata": {},
   "outputs": [
    {
     "name": "stderr",
     "output_type": "stream",
     "text": [
      "C:\\Users\\ONnodum\\venvs\\bvd_venv\\lib\\site-packages\\IPython\\core\\interactiveshell.py:3553: DtypeWarning: Columns (41,42,43,44,45,46,47,48,49,50,51,52) have mixed types.Specify dtype option on import or set low_memory=False.\n",
      "  exec(code_obj, self.user_global_ns, self.user_ns)\n"
     ]
    }
   ],
   "source": [
    "df = pd.read_csv(r\"C:\\Users\\ONnodum\\Downloads\\BasicCompanyDataAsOneFile-2023-09-01.zip\")\n"
   ]
  },
  {
   "cell_type": "code",
   "execution_count": 3,
   "metadata": {},
   "outputs": [],
   "source": [
    "cols_drop = ['Accounts.AccountRefDay',\n",
    "       'Accounts.AccountRefMonth', 'Accounts.NextDueDate',\n",
    "       'Accounts.LastMadeUpDate', 'Accounts.AccountCategory',\n",
    "       'Returns.NextDueDate', 'Returns.LastMadeUpDate',\n",
    "       'Mortgages.NumMortCharges', 'Mortgages.NumMortOutstanding',\n",
    "       'Mortgages.NumMortPartSatisfied', 'Mortgages.NumMortSatisfied',\n",
    "       'LimitedPartnerships.NumGenPartners',\n",
    "       'LimitedPartnerships.NumLimPartners', 'URI', 'PreviousName_1.CONDATE',\n",
    "       ' PreviousName_1.CompanyName', ' PreviousName_2.CONDATE',\n",
    "       ' PreviousName_2.CompanyName', 'PreviousName_3.CONDATE',\n",
    "       ' PreviousName_3.CompanyName', 'PreviousName_4.CONDATE',\n",
    "       ' PreviousName_4.CompanyName', 'PreviousName_5.CONDATE',\n",
    "       ' PreviousName_5.CompanyName', 'PreviousName_6.CONDATE',\n",
    "       ' PreviousName_6.CompanyName', 'PreviousName_7.CONDATE',\n",
    "       ' PreviousName_7.CompanyName', 'PreviousName_8.CONDATE',\n",
    "       ' PreviousName_8.CompanyName', 'PreviousName_9.CONDATE',\n",
    "       ' PreviousName_9.CompanyName', 'PreviousName_10.CONDATE',\n",
    "       ' PreviousName_10.CompanyName', 'ConfStmtNextDueDate',\n",
    "       ' ConfStmtLastMadeUpDate', 'RegAddress.CareOf', 'RegAddress.POBox', 'CompanyCategory', 'CountryOfOrigin', \"SICCode.SicText_1\", \"SICCode.SicText_2\", \"SICCode.SicText_3\", \"SICCode.SicText_4\"]\n",
    "df = df.drop(cols_drop, axis=1)"
   ]
  },
  {
   "cell_type": "code",
   "execution_count": 8,
   "metadata": {},
   "outputs": [],
   "source": [
    "# Group by address and count the number of companies\n",
    "address_company_counts = df.groupby('RegAddress.PostCode')['CompanyName'].count().reset_index()\n",
    "address_company_counts.columns = ['Address', 'Num_Companies']\n",
    "\n"
   ]
  },
  {
   "cell_type": "code",
   "execution_count": 25,
   "metadata": {},
   "outputs": [
    {
     "data": {
      "text/plain": [
       "4962995"
      ]
     },
     "execution_count": 25,
     "metadata": {},
     "output_type": "execute_result"
    }
   ],
   "source": [
    "#Count number of active companies\n",
    "msk = (df['CompanyStatus'] == 'Active') \n",
    "ACTIVE_COMP = (df[msk])\n",
    "ACTIVE_COMP\n"
   ]
  },
  {
   "cell_type": "code",
   "execution_count": 26,
   "metadata": {},
   "outputs": [],
   "source": [
    "#Drop NAN Values in order to count unique PCodes\n",
    "df['RegAddress.PostCode'].str.strip()\n",
    "df['RegAddress.PostCode'].str.replace(\"'\", \"\")\n",
    "df.replace(['None', 'nan'], np.nan, inplace=True)\n",
    "df.dropna(subset=['RegAddress.PostCode'], inplace = True)\n"
   ]
  },
  {
   "cell_type": "code",
   "execution_count": 28,
   "metadata": {},
   "outputs": [
    {
     "data": {
      "text/plain": [
       "916460"
      ]
     },
     "execution_count": 28,
     "metadata": {},
     "output_type": "execute_result"
    }
   ],
   "source": [
    "#Count valid unique UK postcodes\n",
    "pat = r'.*\\d{1,2}[a-zA-Z]{2}$'\n",
    "df[df['RegAddress.PostCode'].str.contains(pat, na = False)]['RegAddress.PostCode'].nunique()"
   ]
  },
  {
   "cell_type": "code",
   "execution_count": 29,
   "metadata": {
    "scrolled": true
   },
   "outputs": [],
   "source": [
    "#Replace column values with regex matches\n",
    "df['Unique_pcode'] = df[df[\"RegAddress.PostCode\"].str.contains(pat, na = False)]['RegAddress.PostCode']\n",
    "df.dropna(subset=['Unique_pcode'], inplace = True)\n",
    "\n"
   ]
  },
  {
   "cell_type": "code",
   "execution_count": 30,
   "metadata": {},
   "outputs": [],
   "source": [
    "df['Unique_pcode'] = df['Unique_pcode'].str.replace(r'\\s+', \"\", regex = True)\n",
    "df['Unique_pcode'] = df['Unique_pcode'].str.replace(',', \"\", regex = True)"
   ]
  },
  {
   "cell_type": "code",
   "execution_count": 31,
   "metadata": {},
   "outputs": [
    {
     "data": {
      "text/plain": [
       "0           GU14RY\n",
       "1           HG11ND\n",
       "2           SK63DY\n",
       "3          EC1V9LT\n",
       "4          CM233FR\n",
       "            ...   \n",
       "5393601    EC3V3NG\n",
       "5393602     SY11XF\n",
       "5393603     SW31BW\n",
       "5393604    MK420PQ\n",
       "5393605     PR22DX\n",
       "Name: Unique_pcode, Length: 4872746, dtype: object"
      ]
     },
     "execution_count": 31,
     "metadata": {},
     "output_type": "execute_result"
    }
   ],
   "source": [
    "df['Unique_pcode']"
   ]
  },
  {
   "cell_type": "code",
   "execution_count": 32,
   "metadata": {},
   "outputs": [
    {
     "data": {
      "text/html": [
       "<div>\n",
       "<style scoped>\n",
       "    .dataframe tbody tr th:only-of-type {\n",
       "        vertical-align: middle;\n",
       "    }\n",
       "\n",
       "    .dataframe tbody tr th {\n",
       "        vertical-align: top;\n",
       "    }\n",
       "\n",
       "    .dataframe thead th {\n",
       "        text-align: right;\n",
       "    }\n",
       "</style>\n",
       "<table border=\"1\" class=\"dataframe\">\n",
       "  <thead>\n",
       "    <tr style=\"text-align: right;\">\n",
       "      <th></th>\n",
       "      <th>company</th>\n",
       "    </tr>\n",
       "    <tr>\n",
       "      <th>postcode</th>\n",
       "      <th></th>\n",
       "    </tr>\n",
       "  </thead>\n",
       "  <tbody>\n",
       "    <tr>\n",
       "      <th>WC2H9JQ</th>\n",
       "      <td>76649</td>\n",
       "    </tr>\n",
       "    <tr>\n",
       "      <th>EC1V2NX</th>\n",
       "      <td>46778</td>\n",
       "    </tr>\n",
       "    <tr>\n",
       "      <th>N17GU</th>\n",
       "      <td>41234</td>\n",
       "    </tr>\n",
       "    <tr>\n",
       "      <th>EC2A4NE</th>\n",
       "      <td>19554</td>\n",
       "    </tr>\n",
       "    <tr>\n",
       "      <th>WC1N3AX</th>\n",
       "      <td>16211</td>\n",
       "    </tr>\n",
       "    <tr>\n",
       "      <th>W1W7LT</th>\n",
       "      <td>12640</td>\n",
       "    </tr>\n",
       "    <tr>\n",
       "      <th>CF148LH</th>\n",
       "      <td>11927</td>\n",
       "    </tr>\n",
       "    <tr>\n",
       "      <th>WC2A2JR</th>\n",
       "      <td>9090</td>\n",
       "    </tr>\n",
       "    <tr>\n",
       "      <th>CR26EQ</th>\n",
       "      <td>7461</td>\n",
       "    </tr>\n",
       "    <tr>\n",
       "      <th>W1W5PF</th>\n",
       "      <td>6988</td>\n",
       "    </tr>\n",
       "    <tr>\n",
       "      <th>W60NB</th>\n",
       "      <td>5884</td>\n",
       "    </tr>\n",
       "    <tr>\n",
       "      <th>IP287DE</th>\n",
       "      <td>5873</td>\n",
       "    </tr>\n",
       "    <tr>\n",
       "      <th>EH39WJ</th>\n",
       "      <td>5689</td>\n",
       "    </tr>\n",
       "    <tr>\n",
       "      <th>WA11RG</th>\n",
       "      <td>5506</td>\n",
       "    </tr>\n",
       "    <tr>\n",
       "      <th>G24JR</th>\n",
       "      <td>4827</td>\n",
       "    </tr>\n",
       "    <tr>\n",
       "      <th>HR53DJ</th>\n",
       "      <td>4681</td>\n",
       "    </tr>\n",
       "    <tr>\n",
       "      <th>E62JA</th>\n",
       "      <td>4480</td>\n",
       "    </tr>\n",
       "    <tr>\n",
       "      <th>HA47AE</th>\n",
       "      <td>4471</td>\n",
       "    </tr>\n",
       "    <tr>\n",
       "      <th>BN37GS</th>\n",
       "      <td>4438</td>\n",
       "    </tr>\n",
       "    <tr>\n",
       "      <th>EC1N8LE</th>\n",
       "      <td>4246</td>\n",
       "    </tr>\n",
       "    <tr>\n",
       "      <th>N145BP</th>\n",
       "      <td>3884</td>\n",
       "    </tr>\n",
       "    <tr>\n",
       "      <th>W1B3HH</th>\n",
       "      <td>3678</td>\n",
       "    </tr>\n",
       "    <tr>\n",
       "      <th>WC2A1HR</th>\n",
       "      <td>3415</td>\n",
       "    </tr>\n",
       "    <tr>\n",
       "      <th>BH166FA</th>\n",
       "      <td>3164</td>\n",
       "    </tr>\n",
       "    <tr>\n",
       "      <th>ML110QW</th>\n",
       "      <td>3078</td>\n",
       "    </tr>\n",
       "    <tr>\n",
       "      <th>SW1Y4JU</th>\n",
       "      <td>3074</td>\n",
       "    </tr>\n",
       "    <tr>\n",
       "      <th>WD171HP</th>\n",
       "      <td>2915</td>\n",
       "    </tr>\n",
       "    <tr>\n",
       "      <th>EH24AN</th>\n",
       "      <td>2852</td>\n",
       "    </tr>\n",
       "    <tr>\n",
       "      <th>WA11RL</th>\n",
       "      <td>2492</td>\n",
       "    </tr>\n",
       "    <tr>\n",
       "      <th>NW107PQ</th>\n",
       "      <td>2474</td>\n",
       "    </tr>\n",
       "    <tr>\n",
       "      <th>BH217SB</th>\n",
       "      <td>2457</td>\n",
       "    </tr>\n",
       "    <tr>\n",
       "      <th>SE19EY</th>\n",
       "      <td>2377</td>\n",
       "    </tr>\n",
       "    <tr>\n",
       "      <th>RM66AX</th>\n",
       "      <td>2358</td>\n",
       "    </tr>\n",
       "    <tr>\n",
       "      <th>EH75JA</th>\n",
       "      <td>2354</td>\n",
       "    </tr>\n",
       "    <tr>\n",
       "      <th>W1W6XH</th>\n",
       "      <td>2346</td>\n",
       "    </tr>\n",
       "    <tr>\n",
       "      <th>EH67BD</th>\n",
       "      <td>2187</td>\n",
       "    </tr>\n",
       "    <tr>\n",
       "      <th>CR01JB</th>\n",
       "      <td>2003</td>\n",
       "    </tr>\n",
       "    <tr>\n",
       "      <th>E162DQ</th>\n",
       "      <td>1991</td>\n",
       "    </tr>\n",
       "    <tr>\n",
       "      <th>BH77DU</th>\n",
       "      <td>1971</td>\n",
       "    </tr>\n",
       "    <tr>\n",
       "      <th>N31XW</th>\n",
       "      <td>1964</td>\n",
       "    </tr>\n",
       "    <tr>\n",
       "      <th>WA144RW</th>\n",
       "      <td>1937</td>\n",
       "    </tr>\n",
       "    <tr>\n",
       "      <th>E10SG</th>\n",
       "      <td>1928</td>\n",
       "    </tr>\n",
       "    <tr>\n",
       "      <th>CB28DL</th>\n",
       "      <td>1892</td>\n",
       "    </tr>\n",
       "    <tr>\n",
       "      <th>N32JU</th>\n",
       "      <td>1873</td>\n",
       "    </tr>\n",
       "    <tr>\n",
       "      <th>WC1H9BQ</th>\n",
       "      <td>1856</td>\n",
       "    </tr>\n",
       "    <tr>\n",
       "      <th>CV12NT</th>\n",
       "      <td>1852</td>\n",
       "    </tr>\n",
       "    <tr>\n",
       "      <th>BS93BY</th>\n",
       "      <td>1835</td>\n",
       "    </tr>\n",
       "    <tr>\n",
       "      <th>SW192RR</th>\n",
       "      <td>1828</td>\n",
       "    </tr>\n",
       "    <tr>\n",
       "      <th>N146HF</th>\n",
       "      <td>1827</td>\n",
       "    </tr>\n",
       "    <tr>\n",
       "      <th>N213NA</th>\n",
       "      <td>1824</td>\n",
       "    </tr>\n",
       "    <tr>\n",
       "      <th>EC3V0BT</th>\n",
       "      <td>1806</td>\n",
       "    </tr>\n",
       "    <tr>\n",
       "      <th>WC1X0ND</th>\n",
       "      <td>1786</td>\n",
       "    </tr>\n",
       "    <tr>\n",
       "      <th>EH21JE</th>\n",
       "      <td>1727</td>\n",
       "    </tr>\n",
       "    <tr>\n",
       "      <th>W1G7AJ</th>\n",
       "      <td>1723</td>\n",
       "    </tr>\n",
       "    <tr>\n",
       "      <th>N134BS</th>\n",
       "      <td>1686</td>\n",
       "    </tr>\n",
       "    <tr>\n",
       "      <th>NW110PU</th>\n",
       "      <td>1659</td>\n",
       "    </tr>\n",
       "    <tr>\n",
       "      <th>S119PA</th>\n",
       "      <td>1654</td>\n",
       "    </tr>\n",
       "    <tr>\n",
       "      <th>BH255NR</th>\n",
       "      <td>1643</td>\n",
       "    </tr>\n",
       "    <tr>\n",
       "      <th>CR02LX</th>\n",
       "      <td>1623</td>\n",
       "    </tr>\n",
       "    <tr>\n",
       "      <th>PO80BT</th>\n",
       "      <td>1595</td>\n",
       "    </tr>\n",
       "  </tbody>\n",
       "</table>\n",
       "</div>"
      ],
      "text/plain": [
       "          company\n",
       "postcode         \n",
       "WC2H9JQ     76649\n",
       "EC1V2NX     46778\n",
       "N17GU       41234\n",
       "EC2A4NE     19554\n",
       "WC1N3AX     16211\n",
       "W1W7LT      12640\n",
       "CF148LH     11927\n",
       "WC2A2JR      9090\n",
       "CR26EQ       7461\n",
       "W1W5PF       6988\n",
       "W60NB        5884\n",
       "IP287DE      5873\n",
       "EH39WJ       5689\n",
       "WA11RG       5506\n",
       "G24JR        4827\n",
       "HR53DJ       4681\n",
       "E62JA        4480\n",
       "HA47AE       4471\n",
       "BN37GS       4438\n",
       "EC1N8LE      4246\n",
       "N145BP       3884\n",
       "W1B3HH       3678\n",
       "WC2A1HR      3415\n",
       "BH166FA      3164\n",
       "ML110QW      3078\n",
       "SW1Y4JU      3074\n",
       "WD171HP      2915\n",
       "EH24AN       2852\n",
       "WA11RL       2492\n",
       "NW107PQ      2474\n",
       "BH217SB      2457\n",
       "SE19EY       2377\n",
       "RM66AX       2358\n",
       "EH75JA       2354\n",
       "W1W6XH       2346\n",
       "EH67BD       2187\n",
       "CR01JB       2003\n",
       "E162DQ       1991\n",
       "BH77DU       1971\n",
       "N31XW        1964\n",
       "WA144RW      1937\n",
       "E10SG        1928\n",
       "CB28DL       1892\n",
       "N32JU        1873\n",
       "WC1H9BQ      1856\n",
       "CV12NT       1852\n",
       "BS93BY       1835\n",
       "SW192RR      1828\n",
       "N146HF       1827\n",
       "N213NA       1824\n",
       "EC3V0BT      1806\n",
       "WC1X0ND      1786\n",
       "EH21JE       1727\n",
       "W1G7AJ       1723\n",
       "N134BS       1686\n",
       "NW110PU      1659\n",
       "S119PA       1654\n",
       "BH255NR      1643\n",
       "CR02LX       1623\n",
       "PO80BT       1595"
      ]
     },
     "execution_count": 32,
     "metadata": {},
     "output_type": "execute_result"
    }
   ],
   "source": [
    "#Simplifying data column to show postcode count\n",
    "df1 = pd.DataFrame()\n",
    "df1['postcode'] = df['Unique_pcode']\n",
    "df1['company'] = df['CompanyName']\n",
    "df1.groupby(by='postcode').count().sort_values('company', ascending = False).head(60)\n"
   ]
  },
  {
   "cell_type": "code",
   "execution_count": 33,
   "metadata": {},
   "outputs": [
    {
     "data": {
      "text/html": [
       "<div>\n",
       "<style scoped>\n",
       "    .dataframe tbody tr th:only-of-type {\n",
       "        vertical-align: middle;\n",
       "    }\n",
       "\n",
       "    .dataframe tbody tr th {\n",
       "        vertical-align: top;\n",
       "    }\n",
       "\n",
       "    .dataframe thead th {\n",
       "        text-align: right;\n",
       "    }\n",
       "</style>\n",
       "<table border=\"1\" class=\"dataframe\">\n",
       "  <thead>\n",
       "    <tr style=\"text-align: right;\">\n",
       "      <th></th>\n",
       "      <th>company</th>\n",
       "    </tr>\n",
       "    <tr>\n",
       "      <th>postcode</th>\n",
       "      <th></th>\n",
       "    </tr>\n",
       "  </thead>\n",
       "  <tbody>\n",
       "    <tr>\n",
       "      <th>WC2H9JQ</th>\n",
       "      <td>76649</td>\n",
       "    </tr>\n",
       "    <tr>\n",
       "      <th>EC1V2NX</th>\n",
       "      <td>46778</td>\n",
       "    </tr>\n",
       "    <tr>\n",
       "      <th>N17GU</th>\n",
       "      <td>41234</td>\n",
       "    </tr>\n",
       "    <tr>\n",
       "      <th>EC2A4NE</th>\n",
       "      <td>19554</td>\n",
       "    </tr>\n",
       "    <tr>\n",
       "      <th>WC1N3AX</th>\n",
       "      <td>16211</td>\n",
       "    </tr>\n",
       "    <tr>\n",
       "      <th>...</th>\n",
       "      <td>...</td>\n",
       "    </tr>\n",
       "    <tr>\n",
       "      <th>SK72DH</th>\n",
       "      <td>1221</td>\n",
       "    </tr>\n",
       "    <tr>\n",
       "      <th>DN68DA</th>\n",
       "      <td>1215</td>\n",
       "    </tr>\n",
       "    <tr>\n",
       "      <th>NW35JS</th>\n",
       "      <td>1214</td>\n",
       "    </tr>\n",
       "    <tr>\n",
       "      <th>EC1V9BW</th>\n",
       "      <td>1207</td>\n",
       "    </tr>\n",
       "    <tr>\n",
       "      <th>BL64SG</th>\n",
       "      <td>1204</td>\n",
       "    </tr>\n",
       "  </tbody>\n",
       "</table>\n",
       "<p>100 rows × 1 columns</p>\n",
       "</div>"
      ],
      "text/plain": [
       "          company\n",
       "postcode         \n",
       "WC2H9JQ     76649\n",
       "EC1V2NX     46778\n",
       "N17GU       41234\n",
       "EC2A4NE     19554\n",
       "WC1N3AX     16211\n",
       "...           ...\n",
       "SK72DH       1221\n",
       "DN68DA       1215\n",
       "NW35JS       1214\n",
       "EC1V9BW      1207\n",
       "BL64SG       1204\n",
       "\n",
       "[100 rows x 1 columns]"
      ]
     },
     "execution_count": 33,
     "metadata": {},
     "output_type": "execute_result"
    }
   ],
   "source": [
    "#Top 100 Most Popular UK postcodes\n",
    "df1.groupby(by='postcode').count().nlargest(100, 'company')"
   ]
  },
  {
   "cell_type": "markdown",
   "metadata": {},
   "source": [
    "### SCOTLAND/ NORTHERN IRELAND ANALYSIS\n"
   ]
  },
  {
   "cell_type": "markdown",
   "metadata": {},
   "source": [
    "#### Data Pre-processing"
   ]
  },
  {
   "cell_type": "code",
   "execution_count": 81,
   "metadata": {},
   "outputs": [],
   "source": [
    "#Convert everything to Upper case\n",
    "df['RegAddress.County'] = df['RegAddress.County'].str.upper()\n",
    "df['RegAddress.Country'] = df['RegAddress.Country'].str.upper()\n",
    "#Remove whitespace in the data column\n",
    "df['RegAddress.County'] = df['RegAddress.County'].str.strip()\n",
    "df['RegAddress.Country'] = df['RegAddress.Country'].str.strip()"
   ]
  },
  {
   "cell_type": "code",
   "execution_count": 82,
   "metadata": {},
   "outputs": [],
   "source": [
    "#Convert values to string datatypes\n",
    "df['RegAddress.County'] = df['RegAddress.County'].astype(str)\n",
    "df['RegAddress.Country'] = df['RegAddress.Country'].astype(str)"
   ]
  },
  {
   "cell_type": "code",
   "execution_count": 86,
   "metadata": {},
   "outputs": [],
   "source": [
    "#Add Scotland or Northern Ireland to Country columns if they were in a County\n",
    "def update_country(row):\n",
    "    if 'NORTHERN IRELAND' in row['RegAddress.County']:\n",
    "        return 'NORTHERN IRELAND'\n",
    "    elif 'SCOTLAND' in row['RegAddress.County']:\n",
    "        return 'SCOTLAND'\n",
    "    else:\n",
    "        return row['RegAddress.Country']\n",
    "    \n"
   ]
  },
  {
   "cell_type": "code",
   "execution_count": 87,
   "metadata": {},
   "outputs": [],
   "source": [
    "#Apply the function to update the Country column\n",
    "df['RegAddress.Country'] = df.apply(update_country, axis = 1)"
   ]
  },
  {
   "cell_type": "code",
   "execution_count": 89,
   "metadata": {},
   "outputs": [],
   "source": [
    "SCOTLAND_DF = df[df['RegAddress.County'] == 'SCOTLAND']\n",
    "NORTHERN_IRELAND_DF = df[df['RegAddress.County'] == 'NORTHERN IRELAND']"
   ]
  },
  {
   "cell_type": "code",
   "execution_count": 103,
   "metadata": {},
   "outputs": [
    {
     "data": {
      "text/plain": [
       "SUITE 2                                           89\n",
       "272 BATH STREET                                   44\n",
       "45 ROSEHAUGH ROAD                                 42\n",
       "12 SOUTH BRIDGE                                   40\n",
       "39/5 GRANTON CRESCENT                             39\n",
       "PO BOX 17452 2 LOCHSIDE VIEW                      39\n",
       "C/O PENGUIN HOUSE, CASTLE RIGGS                   36\n",
       "SUITE 6                                           35\n",
       "C/O ASKARI & CO LIMITED                           35\n",
       "SUITE 2,                                          31\n",
       "24 STATION SQUARE                                 24\n",
       "C/O TURCAN CONNELL PRINCES EXCHANGE               21\n",
       "CASTLE HOUSE 1 BAKER STREET                       20\n",
       "C/O PREMIER ACCOUNTING 9B DALRYMPLE COURT         20\n",
       "FIRST FLOOR 4 EARLS COURT                         18\n",
       "BRODIES HOUSE                                     15\n",
       "C/O FORESIGHT GROUP LLP CLARENCE HOUSE            14\n",
       "LAS SUITE                                         13\n",
       "MAXIM 7, MAXIM OFFICE PARK PARKLANDS AVENUE       12\n",
       "8 ST ANN'S PLACE                                  11\n",
       "SUITE 1                                           11\n",
       "1 ENTERPRISE DRIVE, WESTHILL INDUSTRIAL ESTATE    10\n",
       "5 SOUTH CHARLOTTE STREET                          10\n",
       "SUMMIT HOUSE                                       9\n",
       "ASKARI & CO LIMITED                                9\n",
       "LOCHSIDE HOUSE 3 LOCHSIDE WAY                      8\n",
       "THE SHIRES                                         7\n",
       "FENICK HOUSE LISTER WAY                            7\n",
       "44/46 MORNINGSIDE ROAD                             6\n",
       "CENTRE OFFICE                                      6\n",
       "42B HAYMARKET TERRACE                              5\n",
       "2ND FLOOR OFFICES                                  5\n",
       "50 LOTHIAN ROAD                                    5\n",
       "18/2 ROYSTON MAINS STREET                          5\n",
       "SUITE 600                                          5\n",
       "115 BATH STREET                                    5\n",
       "99 EARNHILL ROAD, LARKFIELD INDUSTRIAL ESTATE      4\n",
       "2 WATT ROAD                                        4\n",
       "COLLINS HOUSE                                      4\n",
       "THE CA'D'ORO                                       4\n",
       "SCOTDOR 17 LAW PLACE                               4\n",
       "SPECTRUM BUILDING                                  4\n",
       "18 S1 FORTH STREET                                 4\n",
       "LOCHSIDE HOUSE                                     3\n",
       "BT MURRAYFIELD STADIUM                             3\n",
       "Q COURT                                            3\n",
       "GRANGESTONE INDUSTRIAL ESTATE LADYWELL AVENUE      3\n",
       "PRINCES EXCHANGE                                   3\n",
       "IAN M. CHEYNE BUILDING GLEN TEST FACILITY          3\n",
       "10 PERIMETER ROAD, PINEFIELD INDUSTRIAL ESTATE     3\n",
       "Name: RegAddress.AddressLine1, dtype: int64"
      ]
     },
     "execution_count": 103,
     "metadata": {},
     "output_type": "execute_result"
    }
   ],
   "source": [
    "NORTHERN_IRELAND_DF[['RegAddress.AddressLine1', ]].value_counts()"
   ]
  },
  {
   "cell_type": "markdown",
   "metadata": {},
   "source": [
    "#### NORTHERN_IRELAND ANALYSIS"
   ]
  },
  {
   "cell_type": "code",
   "execution_count": 119,
   "metadata": {},
   "outputs": [
    {
     "data": {
      "text/plain": [
       "RegAddress.AddressLine1            RegAddress.PostCode\n",
       "OFFICE 525                         BT9 6AZ                56\n",
       "C/O EARLSWOOD VETERINARY HOSPITAL  BT4 2AE                12\n",
       "42-46 FOUNTAIN STREET              BT1 5EF                 9\n",
       "SUITE 4 COMMERCIAL MEWS            BT40 1HJ                8\n",
       "2ND FLOOR CALLENDER HOUSE          BT1 4GJ                 6\n",
       "                                                          ..\n",
       "35 SPRINGFIELD DRIVE               BT12 7EL                1\n",
       "37-39 WILLIAM STREET               BT66 6JA                1\n",
       "38-42 HILL STREET                  BT1 2LB                 1\n",
       "39 GLENVILLE ROAD                  BT44 0PB                1\n",
       "UNIT NO D1, WIN BUSINESS PARK      BT35 6PH                1\n",
       "Length: 219, dtype: int64"
      ]
     },
     "execution_count": 119,
     "metadata": {},
     "output_type": "execute_result"
    }
   ],
   "source": [
    "NORTHERN_IRELAND_DF[['RegAddress.AddressLine1','RegAddress.PostCode' ]].value_counts()"
   ]
  },
  {
   "cell_type": "code",
   "execution_count": 107,
   "metadata": {},
   "outputs": [],
   "source": [
    "N_RELAND_DF = NORTHERN_IRELAND_DF['RegAddress.AddressLine1'].value_counts()\n",
    "N_RELAND_DF = pd.Series(N_RELAND_DF, name = 'No of Companies')"
   ]
  },
  {
   "cell_type": "code",
   "execution_count": 111,
   "metadata": {},
   "outputs": [
    {
     "data": {
      "text/html": [
       "<div>\n",
       "<style scoped>\n",
       "    .dataframe tbody tr th:only-of-type {\n",
       "        vertical-align: middle;\n",
       "    }\n",
       "\n",
       "    .dataframe tbody tr th {\n",
       "        vertical-align: top;\n",
       "    }\n",
       "\n",
       "    .dataframe thead th {\n",
       "        text-align: right;\n",
       "    }\n",
       "</style>\n",
       "<table border=\"1\" class=\"dataframe\">\n",
       "  <thead>\n",
       "    <tr style=\"text-align: right;\">\n",
       "      <th></th>\n",
       "      <th>level_0</th>\n",
       "      <th>index</th>\n",
       "      <th>RegAddress.AddressLine1</th>\n",
       "    </tr>\n",
       "  </thead>\n",
       "  <tbody>\n",
       "    <tr>\n",
       "      <th>0</th>\n",
       "      <td>0</td>\n",
       "      <td>OFFICE 525</td>\n",
       "      <td>56</td>\n",
       "    </tr>\n",
       "    <tr>\n",
       "      <th>1</th>\n",
       "      <td>1</td>\n",
       "      <td>C/O EARLSWOOD VETERINARY HOSPITAL</td>\n",
       "      <td>12</td>\n",
       "    </tr>\n",
       "    <tr>\n",
       "      <th>2</th>\n",
       "      <td>2</td>\n",
       "      <td>42-46 FOUNTAIN STREET</td>\n",
       "      <td>9</td>\n",
       "    </tr>\n",
       "    <tr>\n",
       "      <th>3</th>\n",
       "      <td>3</td>\n",
       "      <td>SUITE 4 COMMERCIAL MEWS</td>\n",
       "      <td>8</td>\n",
       "    </tr>\n",
       "    <tr>\n",
       "      <th>4</th>\n",
       "      <td>4</td>\n",
       "      <td>2ND FLOOR CALLENDER HOUSE</td>\n",
       "      <td>6</td>\n",
       "    </tr>\n",
       "    <tr>\n",
       "      <th>...</th>\n",
       "      <td>...</td>\n",
       "      <td>...</td>\n",
       "      <td>...</td>\n",
       "    </tr>\n",
       "    <tr>\n",
       "      <th>214</th>\n",
       "      <td>214</td>\n",
       "      <td>23 GREEN DRIVE</td>\n",
       "      <td>1</td>\n",
       "    </tr>\n",
       "    <tr>\n",
       "      <th>215</th>\n",
       "      <td>215</td>\n",
       "      <td>8TH FLOOR, CITY EXCHANGE BUILDING</td>\n",
       "      <td>1</td>\n",
       "    </tr>\n",
       "    <tr>\n",
       "      <th>216</th>\n",
       "      <td>216</td>\n",
       "      <td>C/O</td>\n",
       "      <td>1</td>\n",
       "    </tr>\n",
       "    <tr>\n",
       "      <th>217</th>\n",
       "      <td>217</td>\n",
       "      <td>70-72 EGLANTINE AVENUE MALONE GROVE APARTMENTS</td>\n",
       "      <td>1</td>\n",
       "    </tr>\n",
       "    <tr>\n",
       "      <th>218</th>\n",
       "      <td>218</td>\n",
       "      <td>4 JUBILEE MEWS</td>\n",
       "      <td>1</td>\n",
       "    </tr>\n",
       "  </tbody>\n",
       "</table>\n",
       "<p>219 rows × 3 columns</p>\n",
       "</div>"
      ],
      "text/plain": [
       "     level_0                                           index  \\\n",
       "0          0                                      OFFICE 525   \n",
       "1          1               C/O EARLSWOOD VETERINARY HOSPITAL   \n",
       "2          2                           42-46 FOUNTAIN STREET   \n",
       "3          3                         SUITE 4 COMMERCIAL MEWS   \n",
       "4          4                       2ND FLOOR CALLENDER HOUSE   \n",
       "..       ...                                             ...   \n",
       "214      214                                  23 GREEN DRIVE   \n",
       "215      215               8TH FLOOR, CITY EXCHANGE BUILDING   \n",
       "216      216                                             C/O   \n",
       "217      217  70-72 EGLANTINE AVENUE MALONE GROVE APARTMENTS   \n",
       "218      218                                  4 JUBILEE MEWS   \n",
       "\n",
       "     RegAddress.AddressLine1  \n",
       "0                         56  \n",
       "1                         12  \n",
       "2                          9  \n",
       "3                          8  \n",
       "4                          6  \n",
       "..                       ...  \n",
       "214                        1  \n",
       "215                        1  \n",
       "216                        1  \n",
       "217                        1  \n",
       "218                        1  \n",
       "\n",
       "[219 rows x 3 columns]"
      ]
     },
     "execution_count": 111,
     "metadata": {},
     "output_type": "execute_result"
    }
   ],
   "source": [
    "N_RELAND_DF = N_RELAND_DF.reset_index()\n",
    "N_RELAND_DF"
   ]
  },
  {
   "cell_type": "code",
   "execution_count": 113,
   "metadata": {},
   "outputs": [],
   "source": [
    "from scipy import stats"
   ]
  },
  {
   "cell_type": "code",
   "execution_count": 114,
   "metadata": {},
   "outputs": [
    {
     "data": {
      "text/plain": [
       "0    56\n",
       "1    12\n",
       "Name: RegAddress.AddressLine1, dtype: int64"
      ]
     },
     "execution_count": 114,
     "metadata": {},
     "output_type": "execute_result"
    }
   ],
   "source": [
    "THRESHOLD = 2.0\n",
    "Z_SCORES1 = np.abs(stats.zscore(SCOTLAND_DF['RegAddress.PostCode']))\n",
    "OUTLIER1 = N_RELAND_DF[Z_SCORES > THRESHOLD]['RegAddress.PostCode']\n",
    "OUTLIER1"
   ]
  },
  {
   "cell_type": "markdown",
   "metadata": {},
   "source": [
    "#### SCOTLAND ANALYSIS"
   ]
  },
  {
   "cell_type": "code",
   "execution_count": 121,
   "metadata": {},
   "outputs": [
    {
     "data": {
      "text/plain": [
       "RegAddress.AddressLine1                         RegAddress.PostCode\n",
       "SUITE 2                                         EH3 6SW                83\n",
       "272 BATH STREET                                 G2 4JR                 44\n",
       "45 ROSEHAUGH ROAD                               IV3 8SW                42\n",
       "12 SOUTH BRIDGE                                 EH1 1DD                40\n",
       "PO BOX 17452 2 LOCHSIDE VIEW                    EH12 1LB               39\n",
       "39/5 GRANTON CRESCENT                           EH5 1BN                39\n",
       "C/O PENGUIN HOUSE, CASTLE RIGGS                 KY11 8SG               36\n",
       "C/O ASKARI & CO LIMITED                         G41 2LL                35\n",
       "SUITE 6                                         EH7 5JA                35\n",
       "SUITE 2,                                        EH3 6SW                31\n",
       "24 STATION SQUARE                               IV1 1LD                24\n",
       "C/O TURCAN CONNELL PRINCES EXCHANGE             EH3 9EE                21\n",
       "CASTLE HOUSE 1 BAKER STREET                     FK8 1AL                20\n",
       "C/O PREMIER ACCOUNTING 9B DALRYMPLE COURT       G66 3AA                20\n",
       "FIRST FLOOR 4 EARLS COURT                       FK3 8ZE                18\n",
       "BRODIES HOUSE                                   AB10 6SD               15\n",
       "C/O FORESIGHT GROUP LLP CLARENCE HOUSE          EH2 4JS                14\n",
       "LAS SUITE                                       EH3 6SW                12\n",
       "MAXIM 7, MAXIM OFFICE PARK PARKLANDS AVENUE     ML1 4WQ                12\n",
       "8 ST ANN'S PLACE                                EH41 4BS               11\n",
       "5 SOUTH CHARLOTTE STREET                        EH2 4AN                10\n",
       "1 ENTERPRISE DRIVE, WESTHILL INDUSTRIAL ESTATE  AB32 6TQ               10\n",
       "SUMMIT HOUSE                                    EH6 7BD                 9\n",
       "ASKARI & CO LIMITED                             G41 2LL                 9\n",
       "LOCHSIDE HOUSE 3 LOCHSIDE WAY                   EH12 9DT                8\n",
       "FENICK HOUSE LISTER WAY                         G72 0FT                 7\n",
       "THE SHIRES                                      ML3 0AS                 7\n",
       "CENTRE OFFICE                                   EH1 3SA                 6\n",
       "SUITE 2                                         EH7 5JA                 6\n",
       "44/46 MORNINGSIDE ROAD                          EH10 4BF                6\n",
       "50 LOTHIAN ROAD                                 EH3 9WJ                 5\n",
       "42B HAYMARKET TERRACE                           EH12 5LA                5\n",
       "2ND FLOOR OFFICES                               FK8 1AY                 5\n",
       "SUITE 600                                       DD1 4BG                 5\n",
       "18/2 ROYSTON MAINS STREET                       EH5 1LB                 5\n",
       "115 BATH STREET                                 G2 2SZ                  5\n",
       "COLLINS HOUSE                                   EH1 2AA                 4\n",
       "99 EARNHILL ROAD, LARKFIELD INDUSTRIAL ESTATE   PA16 0EQ                4\n",
       "2 WATT ROAD                                     G52 4RR                 4\n",
       "18 S1 FORTH STREET                              EH1 3LH                 4\n",
       "SCOTDOR 17 LAW PLACE                            G74 4QL                 4\n",
       "THE CA'D'ORO                                    G1 3PE                  4\n",
       "SUITE 1                                         EH2 1JE                 4\n",
       "                                                AB11 6DY                4\n",
       "SPECTRUM BUILDING                               G2 7AT                  4\n",
       "7TH FLOOR AURORA BUILDING                       G2 7EA                  3\n",
       "LOCHSIDE HOUSE                                  EH12 9DJ                3\n",
       "6TH FLOOR QUARTERMILE 4                         EH3 9EG                 3\n",
       "BT MURRAYFIELD STADIUM                          EH12 5PJ                3\n",
       "10 AVONHEAD ROAD                                G67 4RA                 3\n",
       "dtype: int64"
      ]
     },
     "execution_count": 121,
     "metadata": {},
     "output_type": "execute_result"
    }
   ],
   "source": [
    "SCOTLAND_DF[['RegAddress.AddressLine1','RegAddress.PostCode' ]].value_counts().head(50)"
   ]
  },
  {
   "cell_type": "code",
   "execution_count": 115,
   "metadata": {},
   "outputs": [
    {
     "data": {
      "text/html": [
       "<div>\n",
       "<style scoped>\n",
       "    .dataframe tbody tr th:only-of-type {\n",
       "        vertical-align: middle;\n",
       "    }\n",
       "\n",
       "    .dataframe tbody tr th {\n",
       "        vertical-align: top;\n",
       "    }\n",
       "\n",
       "    .dataframe thead th {\n",
       "        text-align: right;\n",
       "    }\n",
       "</style>\n",
       "<table border=\"1\" class=\"dataframe\">\n",
       "  <thead>\n",
       "    <tr style=\"text-align: right;\">\n",
       "      <th></th>\n",
       "      <th>index</th>\n",
       "      <th>No of Companies</th>\n",
       "    </tr>\n",
       "  </thead>\n",
       "  <tbody>\n",
       "    <tr>\n",
       "      <th>0</th>\n",
       "      <td>SUITE 2</td>\n",
       "      <td>89</td>\n",
       "    </tr>\n",
       "    <tr>\n",
       "      <th>1</th>\n",
       "      <td>272 BATH STREET</td>\n",
       "      <td>44</td>\n",
       "    </tr>\n",
       "    <tr>\n",
       "      <th>2</th>\n",
       "      <td>45 ROSEHAUGH ROAD</td>\n",
       "      <td>42</td>\n",
       "    </tr>\n",
       "    <tr>\n",
       "      <th>3</th>\n",
       "      <td>12 SOUTH BRIDGE</td>\n",
       "      <td>40</td>\n",
       "    </tr>\n",
       "    <tr>\n",
       "      <th>4</th>\n",
       "      <td>39/5 GRANTON CRESCENT</td>\n",
       "      <td>39</td>\n",
       "    </tr>\n",
       "    <tr>\n",
       "      <th>...</th>\n",
       "      <td>...</td>\n",
       "      <td>...</td>\n",
       "    </tr>\n",
       "    <tr>\n",
       "      <th>1009</th>\n",
       "      <td>SUITE 4410 MITCHELL HOUSE</td>\n",
       "      <td>1</td>\n",
       "    </tr>\n",
       "    <tr>\n",
       "      <th>1010</th>\n",
       "      <td>43 MARGARET WALK</td>\n",
       "      <td>1</td>\n",
       "    </tr>\n",
       "    <tr>\n",
       "      <th>1011</th>\n",
       "      <td>76 LGF, GEORGE STREET, EDINBURGH GEORGE STREET</td>\n",
       "      <td>1</td>\n",
       "    </tr>\n",
       "    <tr>\n",
       "      <th>1012</th>\n",
       "      <td>14 KEMPOCK STREET</td>\n",
       "      <td>1</td>\n",
       "    </tr>\n",
       "    <tr>\n",
       "      <th>1013</th>\n",
       "      <td>ORANA</td>\n",
       "      <td>1</td>\n",
       "    </tr>\n",
       "  </tbody>\n",
       "</table>\n",
       "<p>1014 rows × 2 columns</p>\n",
       "</div>"
      ],
      "text/plain": [
       "                                               index  No of Companies\n",
       "0                                            SUITE 2               89\n",
       "1                                    272 BATH STREET               44\n",
       "2                                  45 ROSEHAUGH ROAD               42\n",
       "3                                    12 SOUTH BRIDGE               40\n",
       "4                              39/5 GRANTON CRESCENT               39\n",
       "...                                              ...              ...\n",
       "1009                       SUITE 4410 MITCHELL HOUSE                1\n",
       "1010                                43 MARGARET WALK                1\n",
       "1011  76 LGF, GEORGE STREET, EDINBURGH GEORGE STREET                1\n",
       "1012                               14 KEMPOCK STREET                1\n",
       "1013                                           ORANA                1\n",
       "\n",
       "[1014 rows x 2 columns]"
      ]
     },
     "execution_count": 115,
     "metadata": {},
     "output_type": "execute_result"
    }
   ],
   "source": [
    "SCOT_DF = SCOTLAND_DF['RegAddress.AddressLine1'].value_counts()\n",
    "SCOT_DF= pd.Series(SCOT_DF, name = 'No of Companies')\n",
    "SCOT_DF = SCOT_DF.reset_index()\n",
    "SCOT_DF"
   ]
  },
  {
   "cell_type": "code",
   "execution_count": 118,
   "metadata": {},
   "outputs": [
    {
     "data": {
      "text/plain": [
       "0     89\n",
       "1     44\n",
       "2     42\n",
       "3     40\n",
       "4     39\n",
       "5     39\n",
       "6     36\n",
       "7     35\n",
       "8     35\n",
       "9     31\n",
       "10    24\n",
       "11    21\n",
       "12    20\n",
       "13    20\n",
       "14    18\n",
       "15    15\n",
       "16    14\n",
       "17    13\n",
       "18    12\n",
       "Name: No of Companies, dtype: int64"
      ]
     },
     "execution_count": 118,
     "metadata": {},
     "output_type": "execute_result"
    }
   ],
   "source": [
    "THRESHOLD = 2.0\n",
    "Z_SCORES = np.abs(stats.zscore(SCOT_DF['No of Companies']))\n",
    "OUTLIER1 = SCOT_DF[Z_SCORES > THRESHOLD]['No of Companies']\n",
    "OUTLIER1"
   ]
  },
  {
   "cell_type": "code",
   "execution_count": 36,
   "metadata": {},
   "outputs": [
    {
     "name": "stderr",
     "output_type": "stream",
     "text": [
      "C:\\Users\\ONnodum\\venvs\\bvd_venv\\lib\\site-packages\\IPython\\core\\interactiveshell.py:3553: DtypeWarning: Columns (7,17,18,21,22,24,29,32,39,47,51) have mixed types.Specify dtype option on import or set low_memory=False.\n",
      "  exec(code_obj, self.user_global_ns, self.user_ns)\n"
     ]
    }
   ],
   "source": [
    "#Find UK postcode dataset and how many postcodes have no registered companies\n",
    "POSTCODE_DATA = pd.read_csv(r\"C:\\Users\\ONnodum\\Downloads\\postcodes.zip\")"
   ]
  },
  {
   "cell_type": "code",
   "execution_count": 37,
   "metadata": {},
   "outputs": [],
   "source": [
    "cols_drop1 = ['Latitude', 'Longitude', 'Easting', 'Northing',\n",
    "       'Grid Ref', 'County', 'District', 'Ward', 'District Code', 'Ward Code',\n",
    "       'Country', 'County Code', 'Constituency', 'Introduced', 'Terminated',\n",
    "       'Parish', 'National Park', 'Population', 'Households', 'Built up area',\n",
    "       'Built up sub-division', 'Lower layer super output area', 'Rural/urban',\n",
    "       'Region', 'Altitude', 'London zone', 'LSOA Code', 'Local authority',\n",
    "       'MSOA Code', 'Middle layer super output area', 'Parish Code',\n",
    "       'Census output area', 'Constituency Code',\n",
    "       'Index of Multiple Deprivation', 'Quality', 'User Type', 'Last updated',\n",
    "       'Nearest station', 'Distance to station', 'Postcode area',\n",
    "       'Postcode district', 'Police force', 'Water company', 'Plus Code',\n",
    "       'Average Income', 'Sewage Company', 'Travel To Work Area',\n",
    "       'ITL level 2', 'ITL level 3', 'UPRNs', 'Distance to sea']\n",
    "POSTCODE_DATA = POSTCODE_DATA.drop(cols_drop1, axis=1)"
   ]
  },
  {
   "cell_type": "code",
   "execution_count": 38,
   "metadata": {},
   "outputs": [
    {
     "data": {
      "text/html": [
       "<div>\n",
       "<style scoped>\n",
       "    .dataframe tbody tr th:only-of-type {\n",
       "        vertical-align: middle;\n",
       "    }\n",
       "\n",
       "    .dataframe tbody tr th {\n",
       "        vertical-align: top;\n",
       "    }\n",
       "\n",
       "    .dataframe thead th {\n",
       "        text-align: right;\n",
       "    }\n",
       "</style>\n",
       "<table border=\"1\" class=\"dataframe\">\n",
       "  <thead>\n",
       "    <tr style=\"text-align: right;\">\n",
       "      <th></th>\n",
       "      <th>Postcode</th>\n",
       "      <th>In Use?</th>\n",
       "    </tr>\n",
       "  </thead>\n",
       "  <tbody>\n",
       "    <tr>\n",
       "      <th>0</th>\n",
       "      <td>AB1 0AA</td>\n",
       "      <td>No</td>\n",
       "    </tr>\n",
       "    <tr>\n",
       "      <th>1</th>\n",
       "      <td>AB1 0AB</td>\n",
       "      <td>No</td>\n",
       "    </tr>\n",
       "    <tr>\n",
       "      <th>2</th>\n",
       "      <td>AB1 0AD</td>\n",
       "      <td>No</td>\n",
       "    </tr>\n",
       "    <tr>\n",
       "      <th>3</th>\n",
       "      <td>AB1 0AE</td>\n",
       "      <td>No</td>\n",
       "    </tr>\n",
       "    <tr>\n",
       "      <th>4</th>\n",
       "      <td>AB1 0AF</td>\n",
       "      <td>No</td>\n",
       "    </tr>\n",
       "    <tr>\n",
       "      <th>5</th>\n",
       "      <td>AB1 0AG</td>\n",
       "      <td>No</td>\n",
       "    </tr>\n",
       "    <tr>\n",
       "      <th>6</th>\n",
       "      <td>AB1 0AJ</td>\n",
       "      <td>No</td>\n",
       "    </tr>\n",
       "    <tr>\n",
       "      <th>7</th>\n",
       "      <td>AB1 0AL</td>\n",
       "      <td>No</td>\n",
       "    </tr>\n",
       "    <tr>\n",
       "      <th>8</th>\n",
       "      <td>AB1 0AN</td>\n",
       "      <td>No</td>\n",
       "    </tr>\n",
       "    <tr>\n",
       "      <th>9</th>\n",
       "      <td>AB1 0AP</td>\n",
       "      <td>No</td>\n",
       "    </tr>\n",
       "    <tr>\n",
       "      <th>10</th>\n",
       "      <td>AB1 0AQ</td>\n",
       "      <td>No</td>\n",
       "    </tr>\n",
       "    <tr>\n",
       "      <th>11</th>\n",
       "      <td>AB1 0AR</td>\n",
       "      <td>No</td>\n",
       "    </tr>\n",
       "    <tr>\n",
       "      <th>12</th>\n",
       "      <td>AB1 0AS</td>\n",
       "      <td>No</td>\n",
       "    </tr>\n",
       "    <tr>\n",
       "      <th>13</th>\n",
       "      <td>AB1 0AT</td>\n",
       "      <td>No</td>\n",
       "    </tr>\n",
       "    <tr>\n",
       "      <th>14</th>\n",
       "      <td>AB1 0AX</td>\n",
       "      <td>No</td>\n",
       "    </tr>\n",
       "    <tr>\n",
       "      <th>15</th>\n",
       "      <td>AB1 0BA</td>\n",
       "      <td>No</td>\n",
       "    </tr>\n",
       "    <tr>\n",
       "      <th>16</th>\n",
       "      <td>AB1 0BB</td>\n",
       "      <td>No</td>\n",
       "    </tr>\n",
       "    <tr>\n",
       "      <th>17</th>\n",
       "      <td>AB1 0BD</td>\n",
       "      <td>No</td>\n",
       "    </tr>\n",
       "    <tr>\n",
       "      <th>18</th>\n",
       "      <td>AB1 0BE</td>\n",
       "      <td>No</td>\n",
       "    </tr>\n",
       "    <tr>\n",
       "      <th>19</th>\n",
       "      <td>AB1 0BJ</td>\n",
       "      <td>No</td>\n",
       "    </tr>\n",
       "    <tr>\n",
       "      <th>20</th>\n",
       "      <td>AB1 0BL</td>\n",
       "      <td>No</td>\n",
       "    </tr>\n",
       "    <tr>\n",
       "      <th>21</th>\n",
       "      <td>AB1 0BN</td>\n",
       "      <td>No</td>\n",
       "    </tr>\n",
       "    <tr>\n",
       "      <th>22</th>\n",
       "      <td>AB1 0BP</td>\n",
       "      <td>No</td>\n",
       "    </tr>\n",
       "    <tr>\n",
       "      <th>23</th>\n",
       "      <td>AB1 0BQ</td>\n",
       "      <td>No</td>\n",
       "    </tr>\n",
       "    <tr>\n",
       "      <th>24</th>\n",
       "      <td>AB1 0BR</td>\n",
       "      <td>No</td>\n",
       "    </tr>\n",
       "    <tr>\n",
       "      <th>25</th>\n",
       "      <td>AB1 0BS</td>\n",
       "      <td>No</td>\n",
       "    </tr>\n",
       "    <tr>\n",
       "      <th>26</th>\n",
       "      <td>AB1 0BT</td>\n",
       "      <td>No</td>\n",
       "    </tr>\n",
       "    <tr>\n",
       "      <th>27</th>\n",
       "      <td>AB1 0BX</td>\n",
       "      <td>No</td>\n",
       "    </tr>\n",
       "    <tr>\n",
       "      <th>28</th>\n",
       "      <td>AB1 0BY</td>\n",
       "      <td>No</td>\n",
       "    </tr>\n",
       "    <tr>\n",
       "      <th>29</th>\n",
       "      <td>AB1 0BZ</td>\n",
       "      <td>No</td>\n",
       "    </tr>\n",
       "  </tbody>\n",
       "</table>\n",
       "</div>"
      ],
      "text/plain": [
       "   Postcode In Use?\n",
       "0   AB1 0AA      No\n",
       "1   AB1 0AB      No\n",
       "2   AB1 0AD      No\n",
       "3   AB1 0AE      No\n",
       "4   AB1 0AF      No\n",
       "5   AB1 0AG      No\n",
       "6   AB1 0AJ      No\n",
       "7   AB1 0AL      No\n",
       "8   AB1 0AN      No\n",
       "9   AB1 0AP      No\n",
       "10  AB1 0AQ      No\n",
       "11  AB1 0AR      No\n",
       "12  AB1 0AS      No\n",
       "13  AB1 0AT      No\n",
       "14  AB1 0AX      No\n",
       "15  AB1 0BA      No\n",
       "16  AB1 0BB      No\n",
       "17  AB1 0BD      No\n",
       "18  AB1 0BE      No\n",
       "19  AB1 0BJ      No\n",
       "20  AB1 0BL      No\n",
       "21  AB1 0BN      No\n",
       "22  AB1 0BP      No\n",
       "23  AB1 0BQ      No\n",
       "24  AB1 0BR      No\n",
       "25  AB1 0BS      No\n",
       "26  AB1 0BT      No\n",
       "27  AB1 0BX      No\n",
       "28  AB1 0BY      No\n",
       "29  AB1 0BZ      No"
      ]
     },
     "execution_count": 38,
     "metadata": {},
     "output_type": "execute_result"
    }
   ],
   "source": [
    "POSTCODE_DATA.head(30)"
   ]
  },
  {
   "cell_type": "code",
   "execution_count": 39,
   "metadata": {},
   "outputs": [
    {
     "data": {
      "text/html": [
       "<div>\n",
       "<style scoped>\n",
       "    .dataframe tbody tr th:only-of-type {\n",
       "        vertical-align: middle;\n",
       "    }\n",
       "\n",
       "    .dataframe tbody tr th {\n",
       "        vertical-align: top;\n",
       "    }\n",
       "\n",
       "    .dataframe thead th {\n",
       "        text-align: right;\n",
       "    }\n",
       "</style>\n",
       "<table border=\"1\" class=\"dataframe\">\n",
       "  <thead>\n",
       "    <tr style=\"text-align: right;\">\n",
       "      <th></th>\n",
       "      <th>Postcode</th>\n",
       "      <th>In Use?</th>\n",
       "      <th>postcode</th>\n",
       "      <th>company</th>\n",
       "      <th>_merge</th>\n",
       "    </tr>\n",
       "  </thead>\n",
       "  <tbody>\n",
       "    <tr>\n",
       "      <th>0</th>\n",
       "      <td>AB1 0AA</td>\n",
       "      <td>No</td>\n",
       "      <td>NaN</td>\n",
       "      <td>NaN</td>\n",
       "      <td>left_only</td>\n",
       "    </tr>\n",
       "    <tr>\n",
       "      <th>1</th>\n",
       "      <td>AB1 0AB</td>\n",
       "      <td>No</td>\n",
       "      <td>NaN</td>\n",
       "      <td>NaN</td>\n",
       "      <td>left_only</td>\n",
       "    </tr>\n",
       "    <tr>\n",
       "      <th>2</th>\n",
       "      <td>AB1 0AD</td>\n",
       "      <td>No</td>\n",
       "      <td>NaN</td>\n",
       "      <td>NaN</td>\n",
       "      <td>left_only</td>\n",
       "    </tr>\n",
       "    <tr>\n",
       "      <th>3</th>\n",
       "      <td>AB1 0AE</td>\n",
       "      <td>No</td>\n",
       "      <td>NaN</td>\n",
       "      <td>NaN</td>\n",
       "      <td>left_only</td>\n",
       "    </tr>\n",
       "    <tr>\n",
       "      <th>4</th>\n",
       "      <td>AB1 0AF</td>\n",
       "      <td>No</td>\n",
       "      <td>NaN</td>\n",
       "      <td>NaN</td>\n",
       "      <td>left_only</td>\n",
       "    </tr>\n",
       "    <tr>\n",
       "      <th>...</th>\n",
       "      <td>...</td>\n",
       "      <td>...</td>\n",
       "      <td>...</td>\n",
       "      <td>...</td>\n",
       "      <td>...</td>\n",
       "    </tr>\n",
       "    <tr>\n",
       "      <th>2674231</th>\n",
       "      <td>ZE3 9JW</td>\n",
       "      <td>Yes</td>\n",
       "      <td>NaN</td>\n",
       "      <td>NaN</td>\n",
       "      <td>left_only</td>\n",
       "    </tr>\n",
       "    <tr>\n",
       "      <th>2674232</th>\n",
       "      <td>ZE3 9JX</td>\n",
       "      <td>Yes</td>\n",
       "      <td>NaN</td>\n",
       "      <td>NaN</td>\n",
       "      <td>left_only</td>\n",
       "    </tr>\n",
       "    <tr>\n",
       "      <th>2674233</th>\n",
       "      <td>ZE3 9JY</td>\n",
       "      <td>Yes</td>\n",
       "      <td>NaN</td>\n",
       "      <td>NaN</td>\n",
       "      <td>left_only</td>\n",
       "    </tr>\n",
       "    <tr>\n",
       "      <th>2674234</th>\n",
       "      <td>ZE3 9JZ</td>\n",
       "      <td>Yes</td>\n",
       "      <td>NaN</td>\n",
       "      <td>NaN</td>\n",
       "      <td>left_only</td>\n",
       "    </tr>\n",
       "    <tr>\n",
       "      <th>2674235</th>\n",
       "      <td>ZE3 9XP</td>\n",
       "      <td>No</td>\n",
       "      <td>NaN</td>\n",
       "      <td>NaN</td>\n",
       "      <td>left_only</td>\n",
       "    </tr>\n",
       "  </tbody>\n",
       "</table>\n",
       "<p>2674236 rows × 5 columns</p>\n",
       "</div>"
      ],
      "text/plain": [
       "        Postcode In Use? postcode company     _merge\n",
       "0        AB1 0AA      No      NaN     NaN  left_only\n",
       "1        AB1 0AB      No      NaN     NaN  left_only\n",
       "2        AB1 0AD      No      NaN     NaN  left_only\n",
       "3        AB1 0AE      No      NaN     NaN  left_only\n",
       "4        AB1 0AF      No      NaN     NaN  left_only\n",
       "...          ...     ...      ...     ...        ...\n",
       "2674231  ZE3 9JW     Yes      NaN     NaN  left_only\n",
       "2674232  ZE3 9JX     Yes      NaN     NaN  left_only\n",
       "2674233  ZE3 9JY     Yes      NaN     NaN  left_only\n",
       "2674234  ZE3 9JZ     Yes      NaN     NaN  left_only\n",
       "2674235  ZE3 9XP      No      NaN     NaN  left_only\n",
       "\n",
       "[2674236 rows x 5 columns]"
      ]
     },
     "execution_count": 39,
     "metadata": {},
     "output_type": "execute_result"
    }
   ],
   "source": [
    "POSTCODE_MERGE = POSTCODE_DATA.merge(df1, how = 'left', left_on = 'Postcode', right_on = 'postcode', indicator = True)\n",
    "POSTCODE_MERGE"
   ]
  },
  {
   "cell_type": "code",
   "execution_count": 40,
   "metadata": {},
   "outputs": [
    {
     "data": {
      "text/plain": [
       "2674236"
      ]
     },
     "execution_count": 40,
     "metadata": {},
     "output_type": "execute_result"
    }
   ],
   "source": [
    "#Number of postcodes with no Company registered on them\n",
    "NON_REGISTERED_PCODES = POSTCODE_MERGE[POSTCODE_MERGE['_merge']=='left_only']\n",
    "len(NON_REGISTERED_PCODES)"
   ]
  },
  {
   "cell_type": "code",
   "execution_count": 41,
   "metadata": {},
   "outputs": [],
   "source": [
    "def POSTCODE_FILTER(postcode):\n",
    "    return POSTCODE_MERGE.loc[POSTCODE_MERGE['postcode'] == postcode, 'company'].to_frame()"
   ]
  },
  {
   "cell_type": "code",
   "execution_count": 42,
   "metadata": {},
   "outputs": [
    {
     "data": {
      "text/html": [
       "<div>\n",
       "<style scoped>\n",
       "    .dataframe tbody tr th:only-of-type {\n",
       "        vertical-align: middle;\n",
       "    }\n",
       "\n",
       "    .dataframe tbody tr th {\n",
       "        vertical-align: top;\n",
       "    }\n",
       "\n",
       "    .dataframe thead th {\n",
       "        text-align: right;\n",
       "    }\n",
       "</style>\n",
       "<table border=\"1\" class=\"dataframe\">\n",
       "  <thead>\n",
       "    <tr style=\"text-align: right;\">\n",
       "      <th></th>\n",
       "      <th>company</th>\n",
       "    </tr>\n",
       "  </thead>\n",
       "  <tbody>\n",
       "  </tbody>\n",
       "</table>\n",
       "</div>"
      ],
      "text/plain": [
       "Empty DataFrame\n",
       "Columns: [company]\n",
       "Index: []"
      ]
     },
     "execution_count": 42,
     "metadata": {},
     "output_type": "execute_result"
    }
   ],
   "source": [
    "#Filter companies based on Postcode\n",
    "POSTCODE_FILTER('N1 7GU')\n",
    "    \n",
    "    "
   ]
  },
  {
   "cell_type": "code",
   "execution_count": 43,
   "metadata": {},
   "outputs": [
    {
     "data": {
      "text/html": [
       "<div>\n",
       "<style scoped>\n",
       "    .dataframe tbody tr th:only-of-type {\n",
       "        vertical-align: middle;\n",
       "    }\n",
       "\n",
       "    .dataframe tbody tr th {\n",
       "        vertical-align: top;\n",
       "    }\n",
       "\n",
       "    .dataframe thead th {\n",
       "        text-align: right;\n",
       "    }\n",
       "</style>\n",
       "<table border=\"1\" class=\"dataframe\">\n",
       "  <thead>\n",
       "    <tr style=\"text-align: right;\">\n",
       "      <th></th>\n",
       "      <th>company</th>\n",
       "    </tr>\n",
       "  </thead>\n",
       "  <tbody>\n",
       "  </tbody>\n",
       "</table>\n",
       "</div>"
      ],
      "text/plain": [
       "Empty DataFrame\n",
       "Columns: [company]\n",
       "Index: []"
      ]
     },
     "execution_count": 43,
     "metadata": {},
     "output_type": "execute_result"
    }
   ],
   "source": [
    "POSTCODE_FILTER('ZE3 9JW')"
   ]
  },
  {
   "cell_type": "code",
   "execution_count": 44,
   "metadata": {},
   "outputs": [],
   "source": [
    "#Create function based on different filters(Active status, sector)"
   ]
  },
  {
   "cell_type": "code",
   "execution_count": 45,
   "metadata": {},
   "outputs": [],
   "source": [
    "import matplotlib as plt"
   ]
  },
  {
   "cell_type": "code",
   "execution_count": 46,
   "metadata": {},
   "outputs": [
    {
     "data": {
      "text/plain": [
       "<matplotlib.axes._subplots.AxesSubplot at 0x20c387f51d0>"
      ]
     },
     "execution_count": 46,
     "metadata": {},
     "output_type": "execute_result"
    },
    {
     "data": {
      "image/png": "[encoded data removed]",
      "text/plain": [
       "<Figure size 640x480 with 1 Axes>"
      ]
     },
     "metadata": {},
     "output_type": "display_data"
    }
   ],
   "source": [
    "df1.groupby(by='postcode').count().nlargest(10, 'company').plot(kind = 'bar', ylabel = 'Count', title = 'Popular Postcodes')"
   ]
  },
  {
   "cell_type": "code",
   "execution_count": 47,
   "metadata": {},
   "outputs": [],
   "source": [
    "def plottable(df, hline = False, **plotargs):\n",
    "    figure =  df.plot(**plotargs)\n",
    "    if hline:\n",
    "        average_count = df.mean().iloc[0]\n",
    "        figure.axhline(y = average_count, color = 'r')\n",
    "    return figure"
   ]
  },
  {
   "cell_type": "code",
   "execution_count": 48,
   "metadata": {},
   "outputs": [
    {
     "data": {
      "text/plain": [
       "<matplotlib.axes._subplots.AxesSubplot at 0x20ca4d19320>"
      ]
     },
     "execution_count": 48,
     "metadata": {},
     "output_type": "execute_result"
    },
    {
     "data": {
      "image/png": "[encoded data removed]",
      "text/plain": [
       "<Figure size 640x480 with 1 Axes>"
      ]
     },
     "metadata": {},
     "output_type": "display_data"
    }
   ],
   "source": [
    "plottable(df1.groupby(by='postcode').count().nlargest(10, 'company'), title = 'Popular pcodes', hline = True)"
   ]
  },
  {
   "cell_type": "code",
   "execution_count": 49,
   "metadata": {},
   "outputs": [
    {
     "data": {
      "text/plain": [
       "24853.2"
      ]
     },
     "execution_count": 49,
     "metadata": {},
     "output_type": "execute_result"
    }
   ],
   "source": [
    "df1.groupby(by='postcode').count().nlargest(10, 'company').mean().iloc[0]"
   ]
  },
  {
   "cell_type": "code",
   "execution_count": null,
   "metadata": {},
   "outputs": [],
   "source": []
  }
 ],
 "metadata": {
  "kernelspec": {
   "display_name": "Python 3 (ipykernel)",
   "language": "python",
   "name": "python3"
  },
  "language_info": {
   "codemirror_mode": {
    "name": "ipython",
    "version": 3
   },
   "file_extension": ".py",
   "mimetype": "text/x-python",
   "name": "python",
   "nbconvert_exporter": "python",
   "pygments_lexer": "ipython3",
   "version": "3.11.5"
  }
 },
 "nbformat": 4,
 "nbformat_minor": 2
}
